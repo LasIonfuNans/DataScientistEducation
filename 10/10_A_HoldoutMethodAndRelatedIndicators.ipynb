{
 "cells": [
  {
   "cell_type": "code",
   "execution_count": 1,
   "metadata": {},
   "outputs": [
    {
     "data": {
      "text/plain": [
       "'%.3f'"
      ]
     },
     "execution_count": 1,
     "metadata": {},
     "output_type": "execute_result"
    }
   ],
   "source": [
    "# データ加工・処理・分析ライブラリ\n",
    "import numpy as np\n",
    "import numpy.random as random\n",
    "import scipy as sp\n",
    "from pandas import Series, DataFrame\n",
    "import pandas as pd\n",
    "\n",
    "# 可視化ライブラリ\n",
    "import matplotlib.pyplot as plt\n",
    "import matplotlib as mpl\n",
    "import seaborn as sns\n",
    "%matplotlib inline\n",
    "\n",
    "# 機械学習ライブラリ\n",
    "import sklearn\n",
    "\n",
    "# 小数第三位まで表示\n",
    "%precision 3"
   ]
  },
  {
   "cell_type": "markdown",
   "metadata": {},
   "source": [
    "<span style=\"font-size: 200%\">ホールドアウト法と関連指標</span>"
   ]
  },
  {
   "cell_type": "markdown",
   "metadata": {},
   "source": [
    "**K分割交差検証の実例**"
   ]
  },
  {
   "cell_type": "code",
   "execution_count": 5,
   "metadata": {},
   "outputs": [
    {
     "name": "stdout",
     "output_type": "stream",
     "text": [
      "Cross validation scores:[0.904 0.913 0.956 0.938 0.956]\n",
      "Cross validation scores:0.933+_0.021\n"
     ]
    }
   ],
   "source": [
    "# インポート\n",
    "from sklearn.datasets import load_breast_cancer\n",
    "from sklearn.tree import DecisionTreeClassifier\n",
    "from sklearn.model_selection import cross_validate\n",
    "\n",
    "# 乳がんのデータ読み込み\n",
    "cancer = load_breast_cancer()\n",
    "\n",
    "# 決定木クラスの初期化\n",
    "tree = DecisionTreeClassifier(criterion='entropy', max_depth=3, random_state=0)\n",
    "\n",
    "# K分割交差検証の実行\n",
    "scores = cross_validate(tree, cancer.data, cancer.target, cv=5)\n",
    "\n",
    "# 結果の表示\n",
    "print('Cross validation scores:{}'.format(scores['test_score']))\n",
    "print('Cross validation scores:{:.3f}+_{:.3f}'.format(scores['test_score'].mean(), scores['test_score'].std()))"
   ]
  },
  {
   "cell_type": "markdown",
   "metadata": {},
   "source": [
    "<span style=\"font-size: 200%\">ハイパーパラメータチューニング</span>"
   ]
  },
  {
   "cell_type": "markdown",
   "metadata": {},
   "source": [
    "**グリッドサーチ(スクラッチ)**"
   ]
  },
  {
   "cell_type": "code",
   "execution_count": 6,
   "metadata": {},
   "outputs": [
    {
     "name": "stdout",
     "output_type": "stream",
     "text": [
      "ベストスコア:0.91\n",
      "その時のパラメータ(gamma. C):(0.001, 1.0)\n"
     ]
    },
    {
     "data": {
      "text/plain": [
       "<matplotlib.axes._subplots.AxesSubplot at 0x27205219518>"
      ]
     },
     "execution_count": 6,
     "metadata": {},
     "output_type": "execute_result"
    },
    {
     "data": {
      "image/png": "[encoded data removed]",
      "text/plain": [
       "<Figure size 432x288 with 2 Axes>"
      ]
     },
     "metadata": {
      "needs_background": "light"
     },
     "output_type": "display_data"
    }
   ],
   "source": [
    "# インポート\n",
    "from sklearn.svm import SVC\n",
    "from sklearn.model_selection import train_test_split\n",
    "\n",
    "# 乳がんのデータ読み込み\n",
    "cancer = load_breast_cancer()\n",
    "\n",
    "# 訓練データとテストデータに分類\n",
    "X_train, X_test, y_train, y_test = train_test_split(cancer.data, \n",
    "                                                    cancer.target, \n",
    "                                                    stratify = cancer.target, \n",
    "                                                    random_state = 0)\n",
    "\n",
    "# ハイパーパラメータのすべての組み合わせでモデルを構築・検証\n",
    "scores = {}\n",
    "for gamma in np.logspace(-3, 2 , num=6):\n",
    "    for C in np.logspace(-3, 2 , num=6):\n",
    "        svm = SVC(gamma=gamma, C=C)\n",
    "        svm.fit(X_train, y_train)\n",
    "        scores[(gamma, C)] = svm.score(X_test, y_test)\n",
    "        \n",
    "# 検証結果をscoresに格納\n",
    "scores = pd.Series(scores)\n",
    "\n",
    "# 表示\n",
    "print('ベストスコア:{:.2f}'.format(scores.max()))\n",
    "print('その時のパラメータ(gamma. C):{}'.format(scores.idxmax()))\n",
    "\n",
    "# ヒートマップを表示。縦軸にgamma、横軸にCを表示\n",
    "sns.heatmap(scores.unstack())\n"
   ]
  },
  {
   "cell_type": "markdown",
   "metadata": {},
   "source": [
    "**グリッドサーチ(モジュール関数)**"
   ]
  },
  {
   "cell_type": "code",
   "execution_count": 16,
   "metadata": {},
   "outputs": [
    {
     "name": "stdout",
     "output_type": "stream",
     "text": [
      "ベストスコア:0.930\n",
      "パラメータ:{'C': 1.0, 'gamma': 0.001}\n",
      "テストスコア:0.909\n"
     ]
    }
   ],
   "source": [
    "# インポート\n",
    "from sklearn.model_selection import GridSearchCV\n",
    "from sklearn.svm import SVC\n",
    "\n",
    "# 乳がんのデータ読み込み\n",
    "cancer = load_breast_cancer()\n",
    "\n",
    "# 訓練データとテストデータに分類\n",
    "X_train, X_test, y_train, y_test = train_test_split(cancer.data, \n",
    "                                                    cancer.target, \n",
    "                                                    stratify = cancer.target, \n",
    "                                                    random_state = 0)\n",
    "# GridSearchCVクラスに与えるパラメータを準備\n",
    "param_grid = {'C':np.logspace(-3, 2, num=6),\n",
    "              'gamma':np.logspace(-3, 2, num=6)}\n",
    "\n",
    "# GridSearchCVクラスの初期化\n",
    "gs = GridSearchCV(estimator=SVC(), \n",
    "                  param_grid=param_grid, \n",
    "                  cv = 5)\n",
    "\n",
    "# ハイパーパラメータの組み合わせの検証とベストモデルの構築\n",
    "gs.fit(X_train, y_train)\n",
    "\n",
    "# 表示\n",
    "print('ベストスコア:{:.3f}'.format(gs.best_score_))\n",
    "print('パラメータ:{}'.format(gs.best_params_))\n",
    "print('テストスコア:{:.3f}'.format(gs.score(X_test, y_test)))"
   ]
  }
 ],
 "metadata": {
  "kernelspec": {
   "display_name": "Python 3",
   "language": "python",
   "name": "python3"
  },
  "language_info": {
   "codemirror_mode": {
    "name": "ipython",
    "version": 3
   },
   "file_extension": ".py",
   "mimetype": "text/x-python",
   "name": "python",
   "nbconvert_exporter": "python",
   "pygments_lexer": "ipython3",
   "version": "3.7.3"
  }
 },
 "nbformat": 4,
 "nbformat_minor": 2
}
