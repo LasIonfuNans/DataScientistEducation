{
 "cells": [
  {
   "cell_type": "code",
   "execution_count": 1,
   "metadata": {},
   "outputs": [
    {
     "data": {
      "text/plain": [
       "'%.3f'"
      ]
     },
     "execution_count": 1,
     "metadata": {},
     "output_type": "execute_result"
    }
   ],
   "source": [
    "# データ加工・処理・分析ライブラリ\n",
    "import numpy as np\n",
    "import numpy.random as random\n",
    "import scipy as sp\n",
    "from pandas import Series, DataFrame\n",
    "import pandas as pd\n",
    "\n",
    "# 可視化ライブラリ\n",
    "import matplotlib.pyplot as plt\n",
    "import matplotlib as mpl\n",
    "import seaborn as sns\n",
    "%matplotlib inline\n",
    "\n",
    "# 機械学習ライブラリ\n",
    "import sklearn\n",
    "\n",
    "# 小数第三位まで表示\n",
    "%precision 3"
   ]
  },
  {
   "cell_type": "markdown",
   "metadata": {},
   "source": [
    "<span style=\"font-size: 200%\">分類モデルの評価指標：混同行列と関連指標</span>"
   ]
  },
  {
   "cell_type": "code",
   "execution_count": 3,
   "metadata": {},
   "outputs": [
    {
     "name": "stdout",
     "output_type": "stream",
     "text": [
      "SVC train score: 0.979\n",
      "SVC test score: 0.909\n"
     ]
    }
   ],
   "source": [
    "# インポート\n",
    "from sklearn.svm import SVC\n",
    "from sklearn.model_selection import train_test_split\n",
    "from sklearn.datasets import load_breast_cancer\n",
    "\n",
    "# 乳がんのデータ読み込み\n",
    "cancer = load_breast_cancer()\n",
    "\n",
    "# 訓練データとテストデータに分類\n",
    "X_train, X_test, y_train, y_test = train_test_split(cancer.data, \n",
    "                                                    cancer.target, \n",
    "                                                    stratify = cancer.target, \n",
    "                                                    random_state = 66)\n",
    "\n",
    "# クラスの初期化と学習\n",
    "model = SVC(gamma=0.001, C=1)\n",
    "model.fit(X_train, y_train)\n",
    "\n",
    "# 表示\n",
    "print('{} train score: {:.3f}'.format(model.__class__.__name__, model.score(X_train, y_train)))\n",
    "print('{} test score: {:.3f}'.format(model.__class__.__name__, model.score(X_test, y_test)))\n"
   ]
  },
  {
   "cell_type": "markdown",
   "metadata": {},
   "source": [
    "**混同行列**"
   ]
  },
  {
   "cell_type": "code",
   "execution_count": 6,
   "metadata": {},
   "outputs": [
    {
     "name": "stdout",
     "output_type": "stream",
     "text": [
      "Confusion matrix:\n",
      "[[48  5]\n",
      " [ 8 82]]\n"
     ]
    }
   ],
   "source": [
    "'''\n",
    "この方法で出力される混同行列は縦が実測、横が予測\n",
    "'''\n",
    "\n",
    "# インポート\n",
    "from sklearn.metrics import confusion_matrix\n",
    "\n",
    "# テストデータを使って予測値を算出\n",
    "y_pred = model.predict(X_test)\n",
    "\n",
    "m = confusion_matrix(y_test, y_pred)\n",
    "print('Confusion matrix:\\n{}'.format(m))"
   ]
  },
  {
   "cell_type": "markdown",
   "metadata": {},
   "source": [
    "**正解率、適合率、再現率、F1スコア**"
   ]
  },
  {
   "cell_type": "code",
   "execution_count": 8,
   "metadata": {},
   "outputs": [
    {
     "name": "stdout",
     "output_type": "stream",
     "text": [
      "正解率:0.909\n",
      "適合率:0.943\n",
      "再現率:0.911\n",
      "F1値:0.927\n"
     ]
    }
   ],
   "source": [
    "# 全体に対して、正しく予測できている割合\n",
    "accuracy = (m[0,0] + m[1,1]) / m.sum()\n",
    "print('正解率:{:.3f}'.format(accuracy))\n",
    "\n",
    "# 予測した全件に対して、正しく予測できている割合\n",
    "precision = m[1,1] / m[:,1].sum()\n",
    "print('適合率:{:.3f}'.format(precision))\n",
    "\n",
    "# 実際の１（事象が発生した）全件に対して、正しく予測できている割合\n",
    "recall = m[1,1] / m[1,:].sum()\n",
    "print('再現率:{:.3f}'.format(recall))\n",
    "\n",
    "# 適合率と再現率の調和平均\n",
    "# 適合率と再現率のどちらを用いるか決まっていない場合に、総合的に判断する際に使用\n",
    "f1 = 2 * (precision * recall) / (precision + recall)\n",
    "print('F1値:{:.3f}'.format(f1))\n"
   ]
  },
  {
   "cell_type": "code",
   "execution_count": 9,
   "metadata": {},
   "outputs": [
    {
     "name": "stdout",
     "output_type": "stream",
     "text": [
      "適合率:0.943\n",
      "再現率:0.911\n",
      "F1値:0.927\n"
     ]
    }
   ],
   "source": [
    "from sklearn.metrics import precision_score, recall_score, f1_score\n",
    "print('適合率:{:.3f}'.format(precision_score(y_test, y_pred)))\n",
    "print('再現率:{:.3f}'.format(recall_score(y_test, y_pred)))\n",
    "print('F1値:{:.3f}'.format(f1_score(y_test, y_pred)))"
   ]
  },
  {
   "cell_type": "markdown",
   "metadata": {},
   "source": [
    "<span style=\"font-size: 200%\">分類モデルの評価指標：ROC曲線とAUC</span>"
   ]
  },
  {
   "cell_type": "code",
   "execution_count": 16,
   "metadata": {},
   "outputs": [
    {
     "data": {
      "text/html": [
       "<div>\n",
       "<style scoped>\n",
       "    .dataframe tbody tr th:only-of-type {\n",
       "        vertical-align: middle;\n",
       "    }\n",
       "\n",
       "    .dataframe tbody tr th {\n",
       "        vertical-align: top;\n",
       "    }\n",
       "\n",
       "    .dataframe thead th {\n",
       "        text-align: right;\n",
       "    }\n",
       "</style>\n",
       "<table border=\"1\" class=\"dataframe\">\n",
       "  <thead>\n",
       "    <tr style=\"text-align: right;\">\n",
       "      <th></th>\n",
       "      <th>malignant</th>\n",
       "      <th>benign</th>\n",
       "    </tr>\n",
       "  </thead>\n",
       "  <tbody>\n",
       "    <tr>\n",
       "      <th>0</th>\n",
       "      <td>0.003753</td>\n",
       "      <td>0.996247</td>\n",
       "    </tr>\n",
       "    <tr>\n",
       "      <th>1</th>\n",
       "      <td>0.000525</td>\n",
       "      <td>0.999475</td>\n",
       "    </tr>\n",
       "    <tr>\n",
       "      <th>2</th>\n",
       "      <td>0.027698</td>\n",
       "      <td>0.972302</td>\n",
       "    </tr>\n",
       "    <tr>\n",
       "      <th>3</th>\n",
       "      <td>0.007188</td>\n",
       "      <td>0.992812</td>\n",
       "    </tr>\n",
       "    <tr>\n",
       "      <th>4</th>\n",
       "      <td>0.003221</td>\n",
       "      <td>0.996779</td>\n",
       "    </tr>\n",
       "  </tbody>\n",
       "</table>\n",
       "</div>"
      ],
      "text/plain": [
       "   malignant    benign\n",
       "0   0.003753  0.996247\n",
       "1   0.000525  0.999475\n",
       "2   0.027698  0.972302\n",
       "3   0.007188  0.992812\n",
       "4   0.003221  0.996779"
      ]
     },
     "execution_count": 16,
     "metadata": {},
     "output_type": "execute_result"
    }
   ],
   "source": [
    "# インポート\n",
    "from sklearn.linear_model import LogisticRegression\n",
    "from sklearn.datasets import load_breast_cancer\n",
    "from sklearn.model_selection import cross_validate\n",
    "\n",
    "# 乳がんのデータ読み込み\n",
    "cancer = load_breast_cancer()\n",
    "\n",
    "# 訓練データとテストデータに分類\n",
    "X_train, X_test, y_train, y_test = train_test_split(cancer.data, \n",
    "                                                    cancer.target, \n",
    "                                                    stratify = cancer.target, \n",
    "                                                    random_state = 66)\n",
    "\n",
    "# Logisticクラスの初期化と学習\n",
    "model = LogisticRegression(solver='liblinear', random_state=0)\n",
    "model.fit(X_train, y_train)\n",
    "\n",
    "# テスト用データの予測確率を計算\n",
    "results = pd.DataFrame(model.predict_proba(X_test), columns=cancer.target_names)\n",
    "results.head()\n"
   ]
  },
  {
   "cell_type": "code",
   "execution_count": 17,
   "metadata": {},
   "outputs": [
    {
     "data": {
      "text/html": [
       "<div>\n",
       "<style scoped>\n",
       "    .dataframe tbody tr th:only-of-type {\n",
       "        vertical-align: middle;\n",
       "    }\n",
       "\n",
       "    .dataframe tbody tr th {\n",
       "        vertical-align: top;\n",
       "    }\n",
       "\n",
       "    .dataframe thead th {\n",
       "        text-align: right;\n",
       "    }\n",
       "</style>\n",
       "<table border=\"1\" class=\"dataframe\">\n",
       "  <thead>\n",
       "    <tr style=\"text-align: right;\">\n",
       "      <th></th>\n",
       "      <th>malignant</th>\n",
       "      <th>benign</th>\n",
       "      <th>flag_0.4</th>\n",
       "      <th>flag_0.3</th>\n",
       "      <th>flag_0.15</th>\n",
       "      <th>flag_0.05</th>\n",
       "    </tr>\n",
       "  </thead>\n",
       "  <tbody>\n",
       "    <tr>\n",
       "      <th>0</th>\n",
       "      <td>0.003753</td>\n",
       "      <td>0.996247</td>\n",
       "      <td>1</td>\n",
       "      <td>1</td>\n",
       "      <td>1</td>\n",
       "      <td>1</td>\n",
       "    </tr>\n",
       "    <tr>\n",
       "      <th>1</th>\n",
       "      <td>0.000525</td>\n",
       "      <td>0.999475</td>\n",
       "      <td>1</td>\n",
       "      <td>1</td>\n",
       "      <td>1</td>\n",
       "      <td>1</td>\n",
       "    </tr>\n",
       "    <tr>\n",
       "      <th>2</th>\n",
       "      <td>0.027698</td>\n",
       "      <td>0.972302</td>\n",
       "      <td>1</td>\n",
       "      <td>1</td>\n",
       "      <td>1</td>\n",
       "      <td>1</td>\n",
       "    </tr>\n",
       "    <tr>\n",
       "      <th>3</th>\n",
       "      <td>0.007188</td>\n",
       "      <td>0.992812</td>\n",
       "      <td>1</td>\n",
       "      <td>1</td>\n",
       "      <td>1</td>\n",
       "      <td>1</td>\n",
       "    </tr>\n",
       "    <tr>\n",
       "      <th>4</th>\n",
       "      <td>0.003221</td>\n",
       "      <td>0.996779</td>\n",
       "      <td>1</td>\n",
       "      <td>1</td>\n",
       "      <td>1</td>\n",
       "      <td>1</td>\n",
       "    </tr>\n",
       "    <tr>\n",
       "      <th>5</th>\n",
       "      <td>0.008857</td>\n",
       "      <td>0.991143</td>\n",
       "      <td>1</td>\n",
       "      <td>1</td>\n",
       "      <td>1</td>\n",
       "      <td>1</td>\n",
       "    </tr>\n",
       "    <tr>\n",
       "      <th>6</th>\n",
       "      <td>0.006011</td>\n",
       "      <td>0.993989</td>\n",
       "      <td>1</td>\n",
       "      <td>1</td>\n",
       "      <td>1</td>\n",
       "      <td>1</td>\n",
       "    </tr>\n",
       "    <tr>\n",
       "      <th>7</th>\n",
       "      <td>0.003220</td>\n",
       "      <td>0.996780</td>\n",
       "      <td>1</td>\n",
       "      <td>1</td>\n",
       "      <td>1</td>\n",
       "      <td>1</td>\n",
       "    </tr>\n",
       "    <tr>\n",
       "      <th>8</th>\n",
       "      <td>0.917868</td>\n",
       "      <td>0.082132</td>\n",
       "      <td>0</td>\n",
       "      <td>0</td>\n",
       "      <td>0</td>\n",
       "      <td>1</td>\n",
       "    </tr>\n",
       "    <tr>\n",
       "      <th>9</th>\n",
       "      <td>0.817335</td>\n",
       "      <td>0.182665</td>\n",
       "      <td>0</td>\n",
       "      <td>0</td>\n",
       "      <td>1</td>\n",
       "      <td>1</td>\n",
       "    </tr>\n",
       "  </tbody>\n",
       "</table>\n",
       "</div>"
      ],
      "text/plain": [
       "   malignant    benign  flag_0.4  flag_0.3  flag_0.15  flag_0.05\n",
       "0   0.003753  0.996247         1         1          1          1\n",
       "1   0.000525  0.999475         1         1          1          1\n",
       "2   0.027698  0.972302         1         1          1          1\n",
       "3   0.007188  0.992812         1         1          1          1\n",
       "4   0.003221  0.996779         1         1          1          1\n",
       "5   0.008857  0.991143         1         1          1          1\n",
       "6   0.006011  0.993989         1         1          1          1\n",
       "7   0.003220  0.996780         1         1          1          1\n",
       "8   0.917868  0.082132         0         0          0          1\n",
       "9   0.817335  0.182665         0         0          1          1"
      ]
     },
     "execution_count": 17,
     "metadata": {},
     "output_type": "execute_result"
    }
   ],
   "source": [
    "# 良性クラスの予測確率が0.4,0.3,0.15,0.05以上なら、それぞれの列に1を設定する\n",
    "for threshold in [0.4,0.3,0.15,0.05]:\n",
    "    results[f'flag_{threshold}'] = results['benign'].map(lambda x: 1 if x > threshold else 0)\n",
    "\n",
    "results.head(10)\n"
   ]
  },
  {
   "cell_type": "code",
   "execution_count": 18,
   "metadata": {},
   "outputs": [
    {
     "data": {
      "text/plain": [
       "<matplotlib.axes._subplots.AxesSubplot at 0x17e0de2e0f0>"
      ]
     },
     "execution_count": 18,
     "metadata": {},
     "output_type": "execute_result"
    },
    {
     "data": {
      "image/png": "[encoded data removed]",
      "text/plain": [
       "<Figure size 432x288 with 1 Axes>"
      ]
     },
     "metadata": {
      "needs_background": "light"
     },
     "output_type": "display_data"
    }
   ],
   "source": [
    "'''\n",
    "ROC曲線\n",
    "縦軸に真陽性比率（再現率）、横軸に偽陽性比率をプロット\n",
    "'''\n",
    "# 閾値を0.01から1.00までの間で100通りとして、偽陽性率と新陽性率を計算\n",
    "rates = {}\n",
    "for threshold in np.linspace(0.01, 1.00, num=100):\n",
    "    labels = results['benign'].map(lambda x: 1 if x > threshold else 0)\n",
    "    m = confusion_matrix(y_test, labels)\n",
    "    rates[threshold] = {'false positive rate': m[0,1] / m[0,:].sum(),\n",
    "                         'true positive rate': m[1,1] / m[1,:].sum()}\n",
    "\n",
    "# プロット\n",
    "pd.DataFrame(rates).T.plot.scatter('false positive rate', 'true positive rate')\n",
    "    "
   ]
  },
  {
   "cell_type": "markdown",
   "metadata": {},
   "source": [
    "**ROC曲線(モジュール関数)**"
   ]
  },
  {
   "cell_type": "code",
   "execution_count": 21,
   "metadata": {},
   "outputs": [],
   "source": [
    "# インポート\n",
    "from sklearn import svm\n",
    "from sklearn.metrics import roc_curve, auc\n",
    "from sklearn.datasets import load_breast_cancer\n",
    "\n",
    "# 乳がんのデータ読み込み\n",
    "cancer = load_breast_cancer()\n",
    "\n",
    "# 訓練データとテストデータに分類\n",
    "X_train, X_test, y_train, y_test = train_test_split(cancer.data, \n",
    "                                                    cancer.target, \n",
    "                                                    stratify = cancer.target, \n",
    "                                                    random_state = 66)\n",
    "\n",
    "# SVCによる予測確率の取得\n",
    "model = svm.SVC(kernel='linear', probability=True, random_state=0)\n",
    "model.fit(X_train, y_train)\n",
    "\n",
    "# 予測確率を取得\n",
    "y_pred = model.predict_proba(X_test)[:,1]\n"
   ]
  },
  {
   "cell_type": "code",
   "execution_count": 23,
   "metadata": {},
   "outputs": [
    {
     "data": {
      "text/plain": [
       "<matplotlib.legend.Legend at 0x17e0dfaa898>"
      ]
     },
     "execution_count": 23,
     "metadata": {},
     "output_type": "execute_result"
    },
    {
     "data": {
      "image/png": "[encoded data removed]",
      "text/plain": [
       "<Figure size 432x288 with 1 Axes>"
      ]
     },
     "metadata": {
      "needs_background": "light"
     },
     "output_type": "display_data"
    }
   ],
   "source": [
    "# 偽陽性率、真陽性率の算出\n",
    "fpr, tpr, threshold = roc_curve(y_test, y_pred)\n",
    "\n",
    "# AUCの算出\n",
    "auc = auc(fpr, tpr)\n",
    "\n",
    "# ROC曲線の描画\n",
    "plt.plot(fpr, tpr, color='red', label='ROC curve (area = %.3f)' % auc)\n",
    "plt.plot([0, 1], [0, 1], color='black', linestyle='--')\n",
    "\n",
    "plt.xlim([0.0, 1.0])\n",
    "plt.ylim([0.0, 1.05])\n",
    "plt.xlabel('False positive rate')\n",
    "plt.ylabel('True positive rate')\n",
    "plt.title('Receiver operating characteristic')\n",
    "plt.legend(loc=\"best\")"
   ]
  }
 ],
 "metadata": {
  "kernelspec": {
   "display_name": "Python 3",
   "language": "python",
   "name": "python3"
  },
  "language_info": {
   "codemirror_mode": {
    "name": "ipython",
    "version": 3
   },
   "file_extension": ".py",
   "mimetype": "text/x-python",
   "name": "python",
   "nbconvert_exporter": "python",
   "pygments_lexer": "ipython3",
   "version": "3.7.3"
  }
 },
 "nbformat": 4,
 "nbformat_minor": 2
}
