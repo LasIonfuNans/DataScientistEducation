{
 "cells": [
  {
   "cell_type": "code",
   "execution_count": 2,
   "metadata": {},
   "outputs": [],
   "source": [
    "import numpy as np\n",
    "import scipy as sp\n",
    "import pandas as pd\n",
    "from pandas import Series, DataFrame\n",
    "\n",
    "# 可視化ライブラリ\n",
    "import matplotlib.pyplot as plt\n",
    "import matplotlib as mpl\n",
    "%matplotlib inline\n",
    "\n",
    "# 小数第三位まで表示\n",
    "%precision 3\n",
    "\n",
    "# ランダムシードの固定\n",
    "np.random.seed(0)"
   ]
  },
  {
   "cell_type": "code",
   "execution_count": null,
   "metadata": {},
   "outputs": [],
   "source": []
  },
  {
   "cell_type": "code",
   "execution_count": 5,
   "metadata": {},
   "outputs": [
    {
     "name": "stdout",
     "output_type": "stream",
     "text": [
      "1つだけランダムに抽出： [1]\n"
     ]
    }
   ],
   "source": [
    "# サイコロがとりうる値を配列に格納\n",
    "dice_data = np.array([1, 2, 3, 4, 5, 6])\n",
    "print('1つだけランダムに抽出：', np.random.choice(dice_data, 1))"
   ]
  },
  {
   "cell_type": "code",
   "execution_count": 8,
   "metadata": {},
   "outputs": [
    {
     "name": "stdout",
     "output_type": "stream",
     "text": [
      "1 が出る確率 0.164\n",
      "2 が出る確率 0.166\n",
      "3 が出る確率 0.169\n",
      "4 が出る確率 0.18\n",
      "5 が出る確率 0.158\n",
      "6 が出る確率 0.163\n"
     ]
    }
   ],
   "source": [
    "# サイコロを1000回振ってみる\n",
    "calc_steps = 1000\n",
    "\n",
    "# 1~6のデータの中から、1000回の抽出を実施\n",
    "dice_rolls = np.random.choice(dice_data, calc_steps)\n",
    "\n",
    "# それぞれおの数字がどのくらいの割合で抽出されたかを計算\n",
    "for i in range(1, 7):\n",
    "    p = len(dice_rolls[dice_rolls == i]) / calc_steps\n",
    "    print(i, 'が出る確率', p)\n"
   ]
  },
  {
   "cell_type": "code",
   "execution_count": 12,
   "metadata": {},
   "outputs": [
    {
     "name": "stdout",
     "output_type": "stream",
     "text": [
      "0 が出る確率 0.498\n",
      "1 が出る確率 0.502\n"
     ]
    }
   ],
   "source": [
    "#Practice 4-1\n",
    "\n",
    "# コインは裏表のどちらかが出る\n",
    "coin_data = np.array([0, 1])\n",
    "\n",
    "# 試行回数は1000回\n",
    "calc_steps = 1000\n",
    "\n",
    "coin_toss = np.random.choice(coin_data, calc_steps)\n",
    "\n",
    "# それぞれおの数字がどのくらいの割合で抽出されたかを計算\n",
    "for i in range(0, 2):\n",
    "    p = len(coin_toss[coin_toss == i]) / calc_steps\n",
    "    print(i, 'が出る確率', p)\n"
   ]
  },
  {
   "cell_type": "code",
   "execution_count": null,
   "metadata": {},
   "outputs": [],
   "source": []
  },
  {
   "cell_type": "code",
   "execution_count": 21,
   "metadata": {},
   "outputs": [
    {
     "name": "stdout",
     "output_type": "stream",
     "text": [
      "0.001\n",
      "0.001\n",
      "0.001\n",
      "0.001\n",
      "0.001\n",
      "0.001\n"
     ]
    },
    {
     "data": {
      "image/png": "[encoded data removed]",
      "text/plain": [
       "<Figure size 432x288 with 1 Axes>"
      ]
     },
     "metadata": {
      "needs_background": "light"
     },
     "output_type": "display_data"
    }
   ],
   "source": [
    "# 一様分布\n",
    "# サイコロがとりうる値を配列に格納\n",
    "dice_data = np.array([1, 2, 3, 4, 5, 6])\n",
    "\n",
    "# サイコロを1000回振る\n",
    "calc_steps = 1000\n",
    "\n",
    "# 1~6のデータの中から、1000回の抽出を実施\n",
    "dice_rolls = np.random.choice(dice_data, calc_steps)\n",
    "\n",
    "# それぞれの数字がどのくらいの割合で抽出されたか計算\n",
    "prob_data = np.array([])\n",
    "for i in range(1, 7):\n",
    "    p = len(dice_data[dice_data == i]) / calc_steps\n",
    "    print(p)\n",
    "    prob_data = np.append(prob_data, p)\n",
    "\n",
    "plt.bar(dice_data, prob_data)\n",
    "plt.grid(True)"
   ]
  },
  {
   "cell_type": "code",
   "execution_count": null,
   "metadata": {},
   "outputs": [],
   "source": []
  },
  {
   "cell_type": "code",
   "execution_count": null,
   "metadata": {},
   "outputs": [],
   "source": []
  },
  {
   "cell_type": "code",
   "execution_count": null,
   "metadata": {},
   "outputs": [],
   "source": []
  }
 ],
 "metadata": {
  "kernelspec": {
   "display_name": "Python 3",
   "language": "python",
   "name": "python3"
  },
  "language_info": {
   "codemirror_mode": {
    "name": "ipython",
    "version": 3
   },
   "file_extension": ".py",
   "mimetype": "text/x-python",
   "name": "python",
   "nbconvert_exporter": "python",
   "pygments_lexer": "ipython3",
   "version": "3.7.3"
  }
 },
 "nbformat": 4,
 "nbformat_minor": 2
}
